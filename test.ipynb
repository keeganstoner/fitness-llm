{
 "cells": [
  {
   "cell_type": "code",
   "execution_count": 5,
   "metadata": {},
   "outputs": [
    {
     "name": "stdout",
     "output_type": "stream",
     "text": [
      "Of course! Please provide the details of the conversation you'd like summarized.\n"
     ]
    }
   ],
   "source": [
    "#!/usr/bin/env python3\n",
    "\n",
    "from openai import OpenAI\n",
    "\n",
    "# Either put your key here, or set it via an environment variable\n",
    "from keys import OPENAI_KEY\n",
    "\n",
    "client = OpenAI(api_key=OPENAI_KEY)\n",
    "\n",
    "def test_gpt4(client, model=\"gpt-4-turbo\"):\n",
    "\n",
    "    messages = [\n",
    "        {\"role\": \"system\", \n",
    "         \"content\": \"You are a helpful assistant that summarizes transcripts.\"},\n",
    "        {\"role\": \"user\", \n",
    "         \"content\": f\"Hello, are you able to summarize this conversation?\"}\n",
    "    ]\n",
    "\n",
    "    response = client.chat.completions.create(model=model,\n",
    "    messages=messages,\n",
    "    temperature=0.7)\n",
    "\n",
    "    # Extract summary from the response\n",
    "    return response.choices[0].message.content.strip()\n",
    "\n",
    "if __name__ == \"__main__\":\n",
    "    print(test_gpt4(client))\n"
   ]
  },
  {
   "cell_type": "code",
   "execution_count": null,
   "metadata": {},
   "outputs": [],
   "source": []
  }
 ],
 "metadata": {
  "kernelspec": {
   "display_name": "base",
   "language": "python",
   "name": "python3"
  },
  "language_info": {
   "codemirror_mode": {
    "name": "ipython",
    "version": 3
   },
   "file_extension": ".py",
   "mimetype": "text/x-python",
   "name": "python",
   "nbconvert_exporter": "python",
   "pygments_lexer": "ipython3",
   "version": "3.12.4"
  }
 },
 "nbformat": 4,
 "nbformat_minor": 2
}
